{
 "cells": [
  {
   "cell_type": "markdown",
   "id": "33980c2c-fd98-4db5-a3c8-ac6fd97080cf",
   "metadata": {},
   "source": [
    "#### print Statement "
   ]
  },
  {
   "cell_type": "code",
   "execution_count": 1,
   "id": "79235d51-e3e6-4401-bac3-7502768cf33b",
   "metadata": {},
   "outputs": [
    {
     "name": "stdout",
     "output_type": "stream",
     "text": [
      "Hope Ai\n"
     ]
    }
   ],
   "source": [
    "print(\"Hope Ai\")"
   ]
  },
  {
   "cell_type": "markdown",
   "id": "685cbd6e-1ba6-4369-aa4d-6a469ef70651",
   "metadata": {},
   "source": [
    "#### Buy input  "
   ]
  },
  {
   "cell_type": "code",
   "execution_count": null,
   "id": "78126e7a-ec34-4e33-b2e8-c667b8d28074",
   "metadata": {},
   "outputs": [],
   "source": [
    " inst= input(\"Enter your Institute Name? \")"
   ]
  },
  {
   "cell_type": "markdown",
   "id": "37d0d5fa-0416-4538-aaa5-73310c167035",
   "metadata": {},
   "source": [
    "#### Buy inputs "
   ]
  },
  {
   "cell_type": "code",
   "execution_count": 3,
   "id": "db955394-7083-4c07-a824-3570ff111ce3",
   "metadata": {},
   "outputs": [
    {
     "name": "stdin",
     "output_type": "stream",
     "text": [
      "Enter your name: Anand\n",
      "Enter your age: 24\n",
      "Enter your school name: KHSS\n",
      "Enter your degree: BE Bio\n"
     ]
    }
   ],
   "source": [
    "name=input(\"Enter your name:\") \n",
    "age=int(input(\"Enter your age:\"))\n",
    "school=input(\"Enter your school name:\") \n",
    "deg=input(\"Enter your degree:\") "
   ]
  },
  {
   "cell_type": "markdown",
   "id": "ee190a40-b1e3-4461-989d-f680a028a202",
   "metadata": {},
   "source": [
    "#### Addition "
   ]
  },
  {
   "cell_type": "code",
   "execution_count": 4,
   "id": "e2c108d2-b896-4e5a-825c-ec088cd7a70d",
   "metadata": {},
   "outputs": [
    {
     "name": "stdout",
     "output_type": "stream",
     "text": [
      "a=43\n",
      "b=34\n",
      "add=77\n"
     ]
    }
   ],
   "source": [
    "a= 43 \n",
    "b= 34 \n",
    "add = a+b\n",
    "\n",
    "print(f\"a={a}\")\n",
    "print(f\"b={b}\")\n",
    "print(f\"add={add}\")"
   ]
  },
  {
   "cell_type": "markdown",
   "id": "c6e70401-6317-4e4b-96b0-40c95e4099be",
   "metadata": {},
   "source": [
    "#### subtraction"
   ]
  },
  {
   "cell_type": "code",
   "execution_count": 13,
   "id": "f1665856-c651-491a-a376-d379a74ac81d",
   "metadata": {},
   "outputs": [
    {
     "name": "stdout",
     "output_type": "stream",
     "text": [
      "a=43\n",
      "b=34\n",
      "sub=9\n"
     ]
    }
   ],
   "source": [
    "a= 43 \n",
    "b= 34 \n",
    "sub = a-b\n",
    "\n",
    "print(f\"a={a}\")\n",
    "print(f\"b={b}\")\n",
    "print(f\"sub={sub}\")"
   ]
  },
  {
   "cell_type": "markdown",
   "id": "df339d02-eb7d-479f-baf6-24bff9e7e10c",
   "metadata": {},
   "source": [
    "#### Multiplication"
   ]
  },
  {
   "cell_type": "code",
   "execution_count": 14,
   "id": "e9fce249-1f5b-4bf4-8845-e5a4751eddf1",
   "metadata": {},
   "outputs": [
    {
     "name": "stdout",
     "output_type": "stream",
     "text": [
      "a=63\n",
      "b=97\n",
      "mul=6111\n"
     ]
    }
   ],
   "source": [
    "a= 63\n",
    "b= 97\n",
    "mul = a*b\n",
    "\n",
    "print(f\"a={a}\")\n",
    "print(f\"b={b}\")\n",
    "print(f\"mul={mul}\")"
   ]
  },
  {
   "cell_type": "markdown",
   "id": "a8376e94-0b2f-4e37-a0bc-da4d3caa7e75",
   "metadata": {},
   "source": [
    "#### division"
   ]
  },
  {
   "cell_type": "code",
   "execution_count": 15,
   "id": "f5a71a86-90a5-4b0a-9b20-4ebd5e5a1ec6",
   "metadata": {},
   "outputs": [
    {
     "name": "stdout",
     "output_type": "stream",
     "text": [
      "a=76\n",
      "b=31\n",
      "div=2.4516129032258065\n"
     ]
    }
   ],
   "source": [
    "a= 76\n",
    "b= 31\n",
    "div = a/b\n",
    "\n",
    "print(f\"a={a}\")\n",
    "print(f\"b={b}\")\n",
    "print(f\"div={div}\")"
   ]
  },
  {
   "cell_type": "markdown",
   "id": "107d9da5-3b6e-46b0-908e-9eae84320570",
   "metadata": {},
   "source": [
    "#### Floor Division"
   ]
  },
  {
   "cell_type": "code",
   "execution_count": 16,
   "id": "1740db31-f56d-4193-bb62-76d52d3c2a37",
   "metadata": {},
   "outputs": [
    {
     "name": "stdout",
     "output_type": "stream",
     "text": [
      "a=76\n",
      "b=31\n",
      "Floor div=2\n"
     ]
    }
   ],
   "source": [
    "a= 76\n",
    "b= 31\n",
    "Floor_div= a//b\n",
    "\n",
    "print(f\"a={a}\")\n",
    "print(f\"b={b}\")\n",
    "print(f\"Floor div={Floor_div}\")"
   ]
  },
  {
   "cell_type": "markdown",
   "id": "bd4c4290-bab9-4a49-8d2c-e837211273f9",
   "metadata": {},
   "source": [
    "#### Modulo"
   ]
  },
  {
   "cell_type": "code",
   "execution_count": 17,
   "id": "7eededee-eb38-4148-83fc-f0506b7ed82f",
   "metadata": {},
   "outputs": [
    {
     "name": "stdout",
     "output_type": "stream",
     "text": [
      "a=76\n",
      "b=31\n",
      "modulo=14\n"
     ]
    }
   ],
   "source": [
    "a= 76\n",
    "b= 31\n",
    "mod= a%b\n",
    "\n",
    "print(f\"a={a}\")\n",
    "print(f\"b={b}\")\n",
    "print(f\"modulo={mod}\")"
   ]
  },
  {
   "cell_type": "markdown",
   "id": "cffef784-e569-4b36-bca1-9a5266db1f46",
   "metadata": {},
   "source": [
    "#### power"
   ]
  },
  {
   "cell_type": "code",
   "execution_count": 18,
   "id": "efc198fa-2174-4e3e-80e9-2d20b9cd3446",
   "metadata": {},
   "outputs": [
    {
     "name": "stdout",
     "output_type": "stream",
     "text": [
      "a=4\n",
      "b=4\n",
      "Power=256\n"
     ]
    }
   ],
   "source": [
    "a= 4\n",
    "b= 4\n",
    "Power= a ** b\n",
    "\n",
    "print(f\"a={a}\")\n",
    "print(f\"b={b}\")\n",
    "print(f\"Power={Power}\")"
   ]
  }
 ],
 "metadata": {
  "kernelspec": {
   "display_name": "Python 3 (ipykernel)",
   "language": "python",
   "name": "python3"
  },
  "language_info": {
   "codemirror_mode": {
    "name": "ipython",
    "version": 3
   },
   "file_extension": ".py",
   "mimetype": "text/x-python",
   "name": "python",
   "nbconvert_exporter": "python",
   "pygments_lexer": "ipython3",
   "version": "3.13.5"
  }
 },
 "nbformat": 4,
 "nbformat_minor": 5
}
