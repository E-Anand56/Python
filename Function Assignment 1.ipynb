{
 "cells": [
  {
   "cell_type": "markdown",
   "id": "4b7639ae-9187-4daa-9769-e663214fbfa4",
   "metadata": {},
   "source": [
    "#### Create a class and function, and list out the items in the list "
   ]
  },
  {
   "cell_type": "code",
   "execution_count": 20,
   "id": "bf455281-0bcd-47b4-970a-b2bd7d486c9c",
   "metadata": {},
   "outputs": [],
   "source": [
    "subfields=[\"Machine Learning \",\"Neural Networks\",\"Vision\",\"Robotics\",\"Speech Processing \",\"Natural Language Processing \"]"
   ]
  },
  {
   "cell_type": "code",
   "execution_count": 22,
   "id": "dfdbfb00-f501-4090-8eb8-2c32b935ff6f",
   "metadata": {},
   "outputs": [],
   "source": [
    "def SubfieldsInAI_Subfields():\n",
    "    print(\"Sub-fields in AI are: \")\n",
    "    for temp in subfields:\n",
    "        print(temp)\n",
    "    "
   ]
  },
  {
   "cell_type": "code",
   "execution_count": 23,
   "id": "e7e1f4ef-4554-47b5-aa3e-1bcb04eae292",
   "metadata": {},
   "outputs": [
    {
     "name": "stdout",
     "output_type": "stream",
     "text": [
      "Sub-fields in AI are: \n",
      "Machine Learning \n",
      "Neural Networks\n",
      "Vision\n",
      "Robotics\n",
      "Speech Processing \n",
      "Natural Language Processing \n"
     ]
    }
   ],
   "source": [
    "SubfieldsInAI_Subfields()"
   ]
  },
  {
   "cell_type": "markdown",
   "id": "69e33b62-1e0a-49b3-b0e3-60405d753e72",
   "metadata": {},
   "source": [
    "#### Create a function that checks whether the given number is Odd or Even "
   ]
  },
  {
   "cell_type": "code",
   "execution_count": 33,
   "id": "de357265-6f36-4b91-8d5d-bef513395a3f",
   "metadata": {},
   "outputs": [],
   "source": [
    "def OddEven():\n",
    "    if num%2==0:\n",
    "        print(\"even\")\n",
    "        msg=\"even\"\n",
    "    else:\n",
    "        print(\"odd\")\n",
    "        msg=\"odd\"\n",
    "    return msg\n",
    "    "
   ]
  },
  {
   "cell_type": "code",
   "execution_count": 35,
   "id": "e72786c3-bbd0-443b-a3d0-3a220c36caaf",
   "metadata": {},
   "outputs": [
    {
     "name": "stdin",
     "output_type": "stream",
     "text": [
      "enter a age;  18\n"
     ]
    },
    {
     "name": "stdout",
     "output_type": "stream",
     "text": [
      "even\n"
     ]
    }
   ],
   "source": [
    "num=int(input(\"enter a age; \"))\n",
    "a=OddEven()"
   ]
  },
  {
   "cell_type": "markdown",
   "id": "6fb1112b-2e25-45a8-90c3-44a6c27a8f97",
   "metadata": {},
   "source": [
    "####  Create a function that tells elegibility of marriage for male and female according to their age limit like 21 for male and 18 for female "
   ]
  },
  {
   "cell_type": "code",
   "execution_count": 56,
   "id": "55dbbb4a-5f0d-46ca-85a7-1f3282869e81",
   "metadata": {},
   "outputs": [],
   "source": [
    "def mrgelegibility():\n",
    "    if (cate==\"male\") and (age>=21):\n",
    "        print(\"eligible for marriage\")\n",
    "        msg=\"eligible for marriage\"\n",
    "    elif(cate==\"female\") and (age>=18):\n",
    "        print(\"eligible for marriage\")\n",
    "        msg=\"eligible for marriage\"\n",
    "    else:\n",
    "        print(\"not eligible for marriage\")\n",
    "        msg=\"not eligible for marriage\"\n",
    "    return msg"
   ]
  },
  {
   "cell_type": "code",
   "execution_count": 59,
   "id": "fe97b879-aa37-4e3a-a528-f073464ebe21",
   "metadata": {},
   "outputs": [
    {
     "name": "stdin",
     "output_type": "stream",
     "text": [
      "enter a category: female\n",
      "enter a age: 17\n"
     ]
    },
    {
     "name": "stdout",
     "output_type": "stream",
     "text": [
      "not eligible for marriage\n"
     ]
    }
   ],
   "source": [
    "cate=input(\"enter a category:\")\n",
    "age=int(input(\"enter a age:\"))\n",
    "\n",
    "msg=mrgelegibility()"
   ]
  },
  {
   "cell_type": "markdown",
   "id": "185b5ba8-6076-44e1-b3e1-e9360243c0c3",
   "metadata": {},
   "source": [
    "#### calculate the percentage of your 10th mark "
   ]
  },
  {
   "cell_type": "code",
   "execution_count": 72,
   "id": "80c0558b-21e6-4929-9925-d54b3612ae7c",
   "metadata": {},
   "outputs": [
    {
     "name": "stdin",
     "output_type": "stream",
     "text": [
      "Enter the sub1 mark: 1\n",
      "Enter the sub2 mark: 2\n",
      "Enter the sub3 mark: 3\n",
      "Enter the sub4 mark: 4\n",
      "Enter the sub5 mark: 5\n"
     ]
    },
    {
     "name": "stdout",
     "output_type": "stream",
     "text": [
      "15\n",
      "3.0\n"
     ]
    }
   ],
   "source": [
    "sub1=int(input(\"Enter the sub1 mark:\"))\n",
    "sub2=int(input(\"Enter the sub2 mark:\"))\n",
    "sub3=int(input(\"Enter the sub3 mark:\"))\n",
    "sub4=int(input(\"Enter the sub4 mark:\"))\n",
    "sub5=int(input(\"Enter the sub5 mark:\"))\n",
    "\n",
    "total=(sub1+sub2+sub3+sub4+sub5)\n",
    "print(total)\n",
    "per=(total/500)*100\n",
    "print(per)\n"
   ]
  },
  {
   "cell_type": "code",
   "execution_count": 68,
   "id": "3bb8020b-972a-430b-98cf-b62007160e25",
   "metadata": {},
   "outputs": [],
   "source": [
    "lists=[\"sub1\",\"sub2\",\"sub3\",\"sub4\",\"sub5\"]"
   ]
  },
  {
   "cell_type": "code",
   "execution_count": 70,
   "id": "6f967f45-84a2-4c00-8911-113a7dc2a70c",
   "metadata": {},
   "outputs": [
    {
     "ename": "_IncompleteInputError",
     "evalue": "incomplete input (4272664400.py, line 2)",
     "output_type": "error",
     "traceback": [
      "\u001b[1;36m  Cell \u001b[1;32mIn[70], line 2\u001b[1;36m\u001b[0m\n\u001b[1;33m    \u001b[0m\n\u001b[1;37m    ^\u001b[0m\n\u001b[1;31m_IncompleteInputError\u001b[0m\u001b[1;31m:\u001b[0m incomplete input\n"
     ]
    }
   ],
   "source": [
    "for temp in lists:\n",
    "    "
   ]
  },
  {
   "cell_type": "code",
   "execution_count": null,
   "id": "4702e87f-6ed8-4aa0-b54f-d804635b99b2",
   "metadata": {},
   "outputs": [],
   "source": [
    "total=(sub1+sub2+sub3+sub4+sub5)\n",
    "print(total)\n",
    "per=(total/500)*100\n",
    "print(per)"
   ]
  }
 ],
 "metadata": {
  "kernelspec": {
   "display_name": "Python 3 (ipykernel)",
   "language": "python",
   "name": "python3"
  },
  "language_info": {
   "codemirror_mode": {
    "name": "ipython",
    "version": 3
   },
   "file_extension": ".py",
   "mimetype": "text/x-python",
   "name": "python",
   "nbconvert_exporter": "python",
   "pygments_lexer": "ipython3",
   "version": "3.13.5"
  }
 },
 "nbformat": 4,
 "nbformat_minor": 5
}
