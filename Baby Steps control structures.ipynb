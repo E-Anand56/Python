{
 "cells": [
  {
   "cell_type": "code",
   "execution_count": 2,
   "id": "3f976f6d-c490-403a-93c0-4ac0045554d9",
   "metadata": {},
   "outputs": [
    {
     "name": "stdout",
     "output_type": "stream",
     "text": [
      "Welcome to Assignment-1\n"
     ]
    }
   ],
   "source": [
    "print(\"Welcome to Assignment-1\")"
   ]
  },
  {
   "cell_type": "code",
   "execution_count": null,
   "id": "b68c4a7d-4ae9-4e75-9964-d97990e8dd91",
   "metadata": {},
   "outputs": [],
   "source": []
  },
  {
   "cell_type": "code",
   "execution_count": 6,
   "id": "ccb8d4bf-fa0d-44a2-abd7-8ef06ca2ef09",
   "metadata": {},
   "outputs": [
    {
     "name": "stdout",
     "output_type": "stream",
     "text": [
      "Num1= 10\n",
      "Num2= 30\n",
      "add= 40\n"
     ]
    }
   ],
   "source": [
    "num1=10\n",
    "num2=30\n",
    "add=num1+num2\n",
    "print(\"Num1=\",num1)\n",
    "print(\"Num2=\",num2)\n",
    "print(\"add=\",add)\n"
   ]
  },
  {
   "cell_type": "code",
   "execution_count": null,
   "id": "6ea14e51-6cd2-4b03-a220-6a5b403e6f27",
   "metadata": {},
   "outputs": [],
   "source": []
  },
  {
   "cell_type": "markdown",
   "id": "2d0887e0-da50-4ec7-9745-b998a9f51d4b",
   "metadata": {},
   "source": [
    "### BMI"
   ]
  },
  {
   "cell_type": "markdown",
   "id": "cd30aa36-d019-411e-ab4c-8db57b938726",
   "metadata": {},
   "source": [
    "###### BMI=weight/height ** 2"
   ]
  },
  {
   "cell_type": "code",
   "execution_count": 15,
   "id": "ff8738a4-19b7-4c57-baac-53f2367ae036",
   "metadata": {},
   "outputs": [
    {
     "name": "stdin",
     "output_type": "stream",
     "text": [
      "Enter the weight; 80.0\n",
      "Enter the height; 5.1\n"
     ]
    },
    {
     "name": "stdout",
     "output_type": "stream",
     "text": [
      "Your BMI is: 3.08\n",
      "3.0757400999615534\n",
      "Underweight\n"
     ]
    }
   ],
   "source": [
    "weight=float(input(\"Enter the weight;\"))\n",
    "height=float(input(\"Enter the height;\"))\n",
    "\n",
    "bmi=weight /(height ** 2)\n",
    "\n",
    "print(\"Your BMI is:\", round(bmi, 2))\n",
    "\n",
    "print(bmi)\n",
    "\n",
    "if bmi < 18.5:\n",
    "    print(\"Underweight\")    \n",
    "elif bmi < 25:\n",
    "    print(\"Normal weight\")    \n",
    "elif bmi < 35:\n",
    "    print(\"Overweight\")\n",
    "else:\n",
    "    print(\"obese\")\n",
    "    "
   ]
  },
  {
   "cell_type": "code",
   "execution_count": 18,
   "id": "748789fb-3844-4c78-b22a-62904131d34d",
   "metadata": {},
   "outputs": [
    {
     "name": "stdin",
     "output_type": "stream",
     "text": [
      "Enter the weight (kg):  80\n",
      "Enter height (feet):  5\n",
      "Enter remaining inches:  1\n"
     ]
    },
    {
     "name": "stdout",
     "output_type": "stream",
     "text": [
      "Your BMI is: 33.32\n",
      "Obese\n"
     ]
    }
   ],
   "source": [
    "weight = float(input(\"Enter the weight (kg): \"))\n",
    "\n",
    "feet = int(input(\"Enter height (feet): \"))\n",
    "inches = int(input(\"Enter remaining inches: \"))\n",
    "\n",
    "# convert to meters\n",
    "height = (feet * 0.3048) + (inches * 0.0254)\n",
    "\n",
    "bmi = weight / (height ** 2)\n",
    "\n",
    "print(\"Your BMI is:\", round(bmi, 2))\n",
    "\n",
    "if bmi < 18.5:\n",
    "    print(\"Underweight\")    \n",
    "elif bmi < 25:\n",
    "    print(\"Normal weight\")    \n",
    "elif bmi < 30:\n",
    "    print(\"Overweight\")\n",
    "else:\n",
    "    print(\"Obese\")\n",
    "\n"
   ]
  }
 ],
 "metadata": {
  "kernelspec": {
   "display_name": "Python 3 (ipykernel)",
   "language": "python",
   "name": "python3"
  },
  "language_info": {
   "codemirror_mode": {
    "name": "ipython",
    "version": 3
   },
   "file_extension": ".py",
   "mimetype": "text/x-python",
   "name": "python",
   "nbconvert_exporter": "python",
   "pygments_lexer": "ipython3",
   "version": "3.13.5"
  }
 },
 "nbformat": 4,
 "nbformat_minor": 5
}
