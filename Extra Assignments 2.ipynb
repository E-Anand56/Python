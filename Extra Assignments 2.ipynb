{
 "cells": [
  {
   "cell_type": "markdown",
   "id": "962ef538-716f-4e45-9bc7-26aaeebd22eb",
   "metadata": {},
   "source": [
    "#### print 0 to 20 by using range "
   ]
  },
  {
   "cell_type": "code",
   "execution_count": 2,
   "id": "558ff100-e5ca-4757-b111-e77e3599aaf5",
   "metadata": {},
   "outputs": [
    {
     "name": "stdout",
     "output_type": "stream",
     "text": [
      "0\n",
      "1\n",
      "2\n",
      "3\n",
      "4\n",
      "5\n",
      "6\n",
      "7\n",
      "8\n",
      "9\n",
      "10\n",
      "11\n",
      "12\n",
      "13\n",
      "14\n",
      "15\n",
      "16\n",
      "17\n",
      "18\n",
      "19\n"
     ]
    }
   ],
   "source": [
    "for temp in range(0,20):\n",
    "    print(temp)"
   ]
  },
  {
   "cell_type": "markdown",
   "id": "6e3368cd-c822-4e5b-94b0-2049daa3cd55",
   "metadata": {},
   "source": [
    "#### print range 10 to 20 "
   ]
  },
  {
   "cell_type": "code",
   "execution_count": 4,
   "id": "9440da24-6208-4d3a-80d7-19e7e3419578",
   "metadata": {},
   "outputs": [
    {
     "name": "stdout",
     "output_type": "stream",
     "text": [
      "10\n",
      "11\n",
      "12\n",
      "13\n",
      "14\n",
      "15\n",
      "16\n",
      "17\n",
      "18\n",
      "19\n"
     ]
    }
   ],
   "source": [
    "for temp in range(10,20):\n",
    "    print(temp)"
   ]
  },
  {
   "cell_type": "markdown",
   "id": "2534265a-42ec-438e-8226-1a1f135b7c5f",
   "metadata": {},
   "source": [
    "#### Print number of items in the list by using 'len' "
   ]
  },
  {
   "cell_type": "code",
   "execution_count": 15,
   "id": "6267aad9-8e8f-4a77-8822-c0686d9add25",
   "metadata": {},
   "outputs": [
    {
     "name": "stdout",
     "output_type": "stream",
     "text": [
      "number of items in the list 7\n"
     ]
    }
   ],
   "source": [
    "list=[10, 20, 14, 55, 43, 87, 76] \n",
    "print(f\"number of items in the list\", len(list))"
   ]
  },
  {
   "cell_type": "markdown",
   "id": "13235b58-bb77-4426-89a6-41462b23695b",
   "metadata": {},
   "source": [
    "#### Artificial Intelligence "
   ]
  },
  {
   "cell_type": "code",
   "execution_count": 17,
   "id": "9b75c909-bb0a-4905-948a-14dd195d0c04",
   "metadata": {},
   "outputs": [
    {
     "name": "stdout",
     "output_type": "stream",
     "text": [
      "A\n",
      "r\n",
      "t\n",
      "i\n",
      "f\n",
      "i\n",
      "c\n",
      "i\n",
      "a\n",
      "l\n",
      " \n",
      "I\n",
      "n\n",
      "t\n",
      "e\n",
      "l\n",
      "l\n",
      "i\n",
      "g\n",
      "e\n",
      "n\n",
      "c\n",
      "e\n",
      " \n"
     ]
    }
   ],
   "source": [
    "name=\"Artificial Intelligence \"\n",
    "for temp in name:\n",
    "    print(temp)"
   ]
  },
  {
   "cell_type": "code",
   "execution_count": null,
   "id": "7f3155ba-183b-470c-b33e-ecd29d5f9578",
   "metadata": {},
   "outputs": [],
   "source": []
  },
  {
   "cell_type": "code",
   "execution_count": 19,
   "id": "f015233d-858c-4319-8469-b1a2f40322ae",
   "metadata": {},
   "outputs": [
    {
     "name": "stdout",
     "output_type": "stream",
     "text": [
      "-your Name-\n",
      "-Your Age-\n",
      "-Your Profession-\n"
     ]
    }
   ],
   "source": [
    "print (\"-your Name-\")\n",
    "print(\"-Your Age-\") \n",
    "print(\"-Your Profession-\")"
   ]
  },
  {
   "cell_type": "code",
   "execution_count": null,
   "id": "e2fd8e00-725d-4afc-bdb6-44c583fb5e62",
   "metadata": {},
   "outputs": [],
   "source": []
  },
  {
   "cell_type": "markdown",
   "id": "602badd1-861e-4222-8d96-4f7febf1d378",
   "metadata": {},
   "source": [
    "#### Print This mixered datatype using Tuples"
   ]
  },
  {
   "cell_type": "code",
   "execution_count": 26,
   "id": "9bd2bacb-eb25-4f9c-835e-4c5703c5916e",
   "metadata": {},
   "outputs": [
    {
     "name": "stdout",
     "output_type": "stream",
     "text": [
      "(1, 'Welcome', 2, 'Hope')\n"
     ]
    }
   ],
   "source": [
    "tup = (1, 'Welcome', 2, 'Hope')\n",
    "print(tup)"
   ]
  },
  {
   "cell_type": "code",
   "execution_count": null,
   "id": "92de8f1e-c0f8-4b0f-bcbe-3302efd6b5a1",
   "metadata": {},
   "outputs": [],
   "source": []
  },
  {
   "cell_type": "code",
   "execution_count": 27,
   "id": "8ae343aa-edaf-4547-b76e-67fe022909c0",
   "metadata": {},
   "outputs": [
    {
     "name": "stdout",
     "output_type": "stream",
     "text": [
      "((0, 1, 2, 3), ('python', 'hope'))\n"
     ]
    }
   ],
   "source": [
    "tup1 = (0, 1, 2, 3)\n",
    "tup2 = ('python', 'hope')\n",
    "tup3 = (tup1, tup2)\n",
    "print(tup3)"
   ]
  },
  {
   "cell_type": "markdown",
   "id": "dd955437-0fc8-4ef2-adb1-70e054af553e",
   "metadata": {},
   "source": [
    " #### print Odd Numbers in the list "
   ]
  },
  {
   "cell_type": "code",
   "execution_count": 30,
   "id": "adbfc55b-9cd1-41c5-8808-c4fd77f15f01",
   "metadata": {},
   "outputs": [
    {
     "name": "stdout",
     "output_type": "stream",
     "text": [
      "19 is odd\n",
      "25 is odd\n",
      "1 is odd\n"
     ]
    }
   ],
   "source": [
    "tup=(20,10,16,19,25,1,276,188) \n",
    "for i in tup:\n",
    "    if i%2 !=0:\n",
    "        print(f\"{i} is odd\")"
   ]
  },
  {
   "cell_type": "markdown",
   "id": "103d9d04-dea0-45c4-a91b-789dfb2bc8cf",
   "metadata": {},
   "source": [
    "#### Even"
   ]
  },
  {
   "cell_type": "code",
   "execution_count": 31,
   "id": "f8a7ef5c-3b94-4e95-b253-00b41313a15e",
   "metadata": {},
   "outputs": [
    {
     "name": "stdout",
     "output_type": "stream",
     "text": [
      "20 is Even\n",
      "10 is Even\n",
      "16 is Even\n",
      "276 is Even\n",
      "188 is Even\n"
     ]
    }
   ],
   "source": [
    "tup=(20,10,16,19,25,1,276,188) \n",
    "for i in tup:\n",
    "    if i%2 ==0:\n",
    "        print(f\"{i} is Even\")"
   ]
  },
  {
   "cell_type": "code",
   "execution_count": null,
   "id": "adef7c77-eea7-4c9a-b948-067ebf403446",
   "metadata": {},
   "outputs": [],
   "source": []
  }
 ],
 "metadata": {
  "kernelspec": {
   "display_name": "Python 3 (ipykernel)",
   "language": "python",
   "name": "python3"
  },
  "language_info": {
   "codemirror_mode": {
    "name": "ipython",
    "version": 3
   },
   "file_extension": ".py",
   "mimetype": "text/x-python",
   "name": "python",
   "nbconvert_exporter": "python",
   "pygments_lexer": "ipython3",
   "version": "3.13.5"
  }
 },
 "nbformat": 4,
 "nbformat_minor": 5
}
