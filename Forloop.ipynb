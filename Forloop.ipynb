{
 "cells": [
  {
   "cell_type": "markdown",
   "id": "7628f974-1c36-4cd0-89b5-7decacd7dfa7",
   "metadata": {},
   "source": [
    "#### Rule- Many Inputs and One set of condition"
   ]
  },
  {
   "cell_type": "code",
   "execution_count": 4,
   "id": "fd743a21-51d2-441c-b829-4fcae093ae22",
   "metadata": {},
   "outputs": [],
   "source": [
    "List=[18,25,32,39,45,51,10]"
   ]
  },
  {
   "cell_type": "code",
   "execution_count": 5,
   "id": "58a016dc-0e16-4200-89a9-11f88d9b0ed5",
   "metadata": {},
   "outputs": [
    {
     "name": "stdout",
     "output_type": "stream",
     "text": [
      "Adult\n",
      "Adult\n",
      "Adult\n",
      "Citizen\n",
      "Citizen\n",
      "Senior Citizen\n",
      "Children\n"
     ]
    }
   ],
   "source": [
    "for age in List:\n",
    "    if (age>=51):\n",
    "        print(\"Senior Citizen\")\n",
    "    elif(age>=35):\n",
    "        print(\"Citizen\")\n",
    "    elif(age>=18):\n",
    "        print(\"Adult\")\n",
    "    else:\n",
    "        print(\"Children\")"
   ]
  }
 ],
 "metadata": {
  "kernelspec": {
   "display_name": "Python 3 (ipykernel)",
   "language": "python",
   "name": "python3"
  },
  "language_info": {
   "codemirror_mode": {
    "name": "ipython",
    "version": 3
   },
   "file_extension": ".py",
   "mimetype": "text/x-python",
   "name": "python",
   "nbconvert_exporter": "python",
   "pygments_lexer": "ipython3",
   "version": "3.13.5"
  }
 },
 "nbformat": 4,
 "nbformat_minor": 5
}
