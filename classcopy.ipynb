{
 "cells": [
  {
   "cell_type": "code",
   "execution_count": 1,
   "id": "033cb993-d363-4675-88a1-8f98ca247f10",
   "metadata": {},
   "outputs": [],
   "source": [
    "from allfunction import function"
   ]
  },
  {
   "cell_type": "code",
   "execution_count": null,
   "id": "f9ecf621-724a-4913-85c1-8422557ab4ed",
   "metadata": {},
   "outputs": [],
   "source": [
    "function.mrgelegibility()\n"
   ]
  },
  {
   "cell_type": "code",
   "execution_count": 3,
   "id": "e253b7d6-344e-489b-a0e1-9aac6a078e09",
   "metadata": {},
   "outputs": [
    {
     "name": "stdin",
     "output_type": "stream",
     "text": [
      "Enter a num 56\n"
     ]
    },
    {
     "name": "stdout",
     "output_type": "stream",
     "text": [
      "even\n"
     ]
    },
    {
     "data": {
      "text/plain": [
       "'even'"
      ]
     },
     "execution_count": 3,
     "metadata": {},
     "output_type": "execute_result"
    }
   ],
   "source": [
    "function.OddEven()"
   ]
  },
  {
   "cell_type": "code",
   "execution_count": 2,
   "id": "cd05db18-b4cf-4be1-b5b6-30a389c1b284",
   "metadata": {},
   "outputs": [
    {
     "name": "stdout",
     "output_type": "stream",
     "text": [
      "Sub-fields in AI are: \n",
      "Machine Learning \n",
      "Neural Networks\n",
      "Vision\n",
      "Robotics\n",
      "Speech Processing \n",
      "Natural Language Processing \n"
     ]
    }
   ],
   "source": [
    "function.SubfieldsInAI()"
   ]
  }
 ],
 "metadata": {
  "kernelspec": {
   "display_name": "Python 3 (ipykernel)",
   "language": "python",
   "name": "python3"
  },
  "language_info": {
   "codemirror_mode": {
    "name": "ipython",
    "version": 3
   },
   "file_extension": ".py",
   "mimetype": "text/x-python",
   "name": "python",
   "nbconvert_exporter": "python",
   "pygments_lexer": "ipython3",
   "version": "3.13.5"
  }
 },
 "nbformat": 4,
 "nbformat_minor": 5
}
