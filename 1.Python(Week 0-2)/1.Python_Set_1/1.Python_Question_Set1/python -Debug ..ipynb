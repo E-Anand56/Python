{
 "cells": [
  {
   "cell_type": "code",
   "execution_count": 4,
   "id": "8e02775a",
   "metadata": {},
   "outputs": [
    {
     "name": "stdout",
     "output_type": "stream",
     "text": [
      "0\n",
      "1\n",
      "2\n",
      "3\n",
      "4\n"
     ]
    }
   ],
   "source": [
    "#1.Find the error in the following Python code:\n",
    "\n",
    "for i in range(5):\n",
    "    print(i)\n",
    "\n",
    "# it had space before for\n",
    "# : missed\n"
   ]
  },
  {
   "cell_type": "code",
   "execution_count": 9,
   "id": "df3cee51",
   "metadata": {},
   "outputs": [
    {
     "name": "stdout",
     "output_type": "stream",
     "text": [
      "15\n"
     ]
    }
   ],
   "source": [
    "#2.What will be the output of this code?\n",
    "\n",
    "a = 10\n",
    "b = int(\"5\")\n",
    "print(a + b)\n",
    "\n",
    "## int+ str we cant add\n",
    " "
   ]
  },
  {
   "cell_type": "code",
   "execution_count": 13,
   "id": "15c2e7b2",
   "metadata": {},
   "outputs": [
    {
     "data": {
      "text/plain": [
       "3"
      ]
     },
     "execution_count": 13,
     "metadata": {},
     "output_type": "execute_result"
    }
   ],
   "source": [
    "#3.What is the issue in this Python snippet?\n",
    "\n",
    "def add_numbers(a, b):\n",
    "    return a + b\n",
    "\n",
    "add_numbers(1,2)\n",
    "\n",
    "## there is  space before def\n",
    "## there is no :\n",
    "## there is no function call"
   ]
  },
  {
   "cell_type": "code",
   "execution_count": 18,
   "id": "2f8e5efd",
   "metadata": {},
   "outputs": [
    {
     "name": "stdout",
     "output_type": "stream",
     "text": [
      "4\n"
     ]
    }
   ],
   "source": [
    "\n",
    "#4.Identify the bug in the following Python code:\n",
    "\n",
    "numbers = [1, 2, 3, 4]\n",
    "print(numbers[3])\n",
    "## there is no index in the nymber of 4"
   ]
  },
  {
   "cell_type": "code",
   "execution_count": 20,
   "id": "bc0080c1",
   "metadata": {},
   "outputs": [
    {
     "name": "stdout",
     "output_type": "stream",
     "text": [
      "Hello, World!\n"
     ]
    }
   ],
   "source": [
    "#5.Find the error in the following Python code:\n",
    "print (\"Hello, World!\")\n",
    "\n",
    "## open bracket is missing"
   ]
  },
  {
   "cell_type": "code",
   "execution_count": 22,
   "id": "5b449ecb",
   "metadata": {},
   "outputs": [
    {
     "ename": "ZeroDivisionError",
     "evalue": "division by zero",
     "output_type": "error",
     "traceback": [
      "\u001b[1;31m---------------------------------------------------------------------------\u001b[0m",
      "\u001b[1;31mZeroDivisionError\u001b[0m                         Traceback (most recent call last)",
      "Cell \u001b[1;32mIn[22], line 2\u001b[0m\n\u001b[0;32m      1\u001b[0m \u001b[38;5;66;03m#6.Find the error in the following Python code:\u001b[39;00m\n\u001b[1;32m----> 2\u001b[0m x \u001b[38;5;241m=\u001b[39m \u001b[38;5;241m5\u001b[39m \u001b[38;5;241m/\u001b[39m \u001b[38;5;241m0\u001b[39m\n",
      "\u001b[1;31mZeroDivisionError\u001b[0m: division by zero"
     ]
    }
   ],
   "source": [
    "#6.Find the error in the following Python code:\n",
    "x = 5 / 0\n",
    "\n",
    "## there is 0 in denominater\n"
   ]
  },
  {
   "cell_type": "code",
   "execution_count": 27,
   "id": "79260565",
   "metadata": {},
   "outputs": [
    {
     "name": "stdout",
     "output_type": "stream",
     "text": [
      "Name: Alice , Age: 25\n"
     ]
    }
   ],
   "source": [
    "#7.Find the error in the following Python code:name = \"Alice\"\n",
    "name=\"Alice\"\n",
    "age = 25\n",
    "print(\"Name: \" + name , \", Age: \" + str( age))\n",
    "\n",
    "# name is not defined\n",
    "# str+ int we cant add\n"
   ]
  },
  {
   "cell_type": "code",
   "execution_count": 34,
   "id": "3e4b6f3b",
   "metadata": {},
   "outputs": [],
   "source": [
    "#8.Find the error\n",
    "for i in range(1, 10, -1):\n",
    "    print(i)\n",
    "## there is range 1 to 10. then loop will go like this  1,2,3,4,"
   ]
  },
  {
   "cell_type": "code",
   "execution_count": 38,
   "id": "95976c4d",
   "metadata": {},
   "outputs": [
    {
     "name": "stdout",
     "output_type": "stream",
     "text": [
      "x is not 5\n"
     ]
    }
   ],
   "source": [
    "#9. Find the error in the following Python code:\n",
    "x = 10\n",
    "if x == 5:\n",
    "    print(\"x is 5\")\n",
    "else:\n",
    "    print(\"x is not 5\")\n",
    "\n",
    "## basically if is being used to check the condition , here on if , value has assigened to the x\n"
   ]
  },
  {
   "cell_type": "code",
   "execution_count": 43,
   "id": "317eca50",
   "metadata": {},
   "outputs": [
    {
     "name": "stdout",
     "output_type": "stream",
     "text": [
      "Hello, Anand\n"
     ]
    }
   ],
   "source": [
    "#10. Identify the error in the following function definition:\n",
    "\n",
    "def greet(name):\n",
    "    print(\"Hello, \" + str(name))\n",
    "\n",
    "name=\"Anand\"\n",
    "greet(name)\n",
    "\n",
    "## : was missing\n",
    "# str + int we cant add \n",
    "# function was not callable"
   ]
  },
  {
   "cell_type": "code",
   "execution_count": null,
   "id": "bba592a5-0a54-41dc-8ba6-ed1a022dc39c",
   "metadata": {},
   "outputs": [],
   "source": []
  }
 ],
 "metadata": {
  "kernelspec": {
   "display_name": "Python 3 (ipykernel)",
   "language": "python",
   "name": "python3"
  },
  "language_info": {
   "codemirror_mode": {
    "name": "ipython",
    "version": 3
   },
   "file_extension": ".py",
   "mimetype": "text/x-python",
   "name": "python",
   "nbconvert_exporter": "python",
   "pygments_lexer": "ipython3",
   "version": "3.13.5"
  }
 },
 "nbformat": 4,
 "nbformat_minor": 5
}
