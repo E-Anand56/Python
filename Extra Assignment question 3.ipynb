{
 "cells": [
  {
   "cell_type": "markdown",
   "id": "699a0992-be3d-4e20-844d-b7f5a2461e89",
   "metadata": {},
   "source": [
    "#### print 'CORRECT' if i == 10 "
   ]
  },
  {
   "cell_type": "code",
   "execution_count": 5,
   "id": "185429a9-eaf3-4ab2-9790-b145af8cb7ae",
   "metadata": {},
   "outputs": [
    {
     "name": "stdin",
     "output_type": "stream",
     "text": [
      "Value: 10\n"
     ]
    },
    {
     "name": "stdout",
     "output_type": "stream",
     "text": [
      "Correct\n"
     ]
    }
   ],
   "source": [
    "num=int(input(\"Value:\"))\n",
    "if (num == 10):\n",
    "    print(\"Correct\")\n",
    "else:\n",
    "    print(\"Not correct\")"
   ]
  },
  {
   "cell_type": "markdown",
   "id": "77c865d2-2a3f-498d-9e34-6f6e35ff55aa",
   "metadata": {},
   "source": [
    "####  Check the password, using if and else "
   ]
  },
  {
   "cell_type": "code",
   "execution_count": 9,
   "id": "4d8f2661-55e0-4db1-a8fc-76d40f66194b",
   "metadata": {},
   "outputs": [
    {
     "name": "stdin",
     "output_type": "stream",
     "text": [
      "Enter the password: Hope@123\n"
     ]
    },
    {
     "name": "stdout",
     "output_type": "stream",
     "text": [
      "Your is password is correct\n"
     ]
    }
   ],
   "source": [
    "pas=input(\"Enter the password:\")\n",
    "val=\"Hope@123\"\n",
    "if (pas == val):\n",
    "    print(\"Your is password is correct\")\n",
    "else:\n",
    "    print(\"Your is password is not correct\")"
   ]
  },
  {
   "cell_type": "markdown",
   "id": "f5009839-ff42-4c6e-bf9f-d9747db18b26",
   "metadata": {},
   "source": [
    "####  Catagory the people by their age like children, adult, citizen, senior citizen... "
   ]
  },
  {
   "cell_type": "code",
   "execution_count": 11,
   "id": "e2f74dca-386d-4a59-a131-6d1de2d39db3",
   "metadata": {},
   "outputs": [
    {
     "name": "stdin",
     "output_type": "stream",
     "text": [
      "Age: 20\n"
     ]
    },
    {
     "name": "stdout",
     "output_type": "stream",
     "text": [
      "Adult\n"
     ]
    }
   ],
   "source": [
    "age=int(input(\"Age:\"))\n",
    "if (age >=50):\n",
    "    print(\"Senior Citizen\")\n",
    "elif(age >=35):\n",
    "    print(\"citizen\")\n",
    "elif(age>=18):\n",
    "    print(\"Adult\")"
   ]
  },
  {
   "cell_type": "markdown",
   "id": "f070d18a-4cf6-4aec-9b73-b0ac27b4b3f5",
   "metadata": {},
   "source": [
    "#### Find whether given number is positive or negative "
   ]
  },
  {
   "cell_type": "code",
   "execution_count": 14,
   "id": "6213ce9f-da65-43ab-815d-b6d47e2b009a",
   "metadata": {},
   "outputs": [
    {
     "name": "stdin",
     "output_type": "stream",
     "text": [
      "Enter a any number: 1\n"
     ]
    },
    {
     "name": "stdout",
     "output_type": "stream",
     "text": [
      "Positive\n"
     ]
    }
   ],
   "source": [
    "num = int(input(\"Enter a any number:\"))\n",
    "if (num>=0):\n",
    "    print(\"Positive\")\n",
    "else:\n",
    "    print(\"Negative\")"
   ]
  },
  {
   "cell_type": "markdown",
   "id": "67505647-9231-47eb-9f1e-6c419252fb5c",
   "metadata": {},
   "source": [
    "#### Check whether the given number is divisible by 5 "
   ]
  },
  {
   "cell_type": "code",
   "execution_count": 17,
   "id": "59f87119-7b87-49fc-9540-8644ca866029",
   "metadata": {},
   "outputs": [
    {
     "name": "stdin",
     "output_type": "stream",
     "text": [
      "enter a number to check: 22\n"
     ]
    },
    {
     "name": "stdout",
     "output_type": "stream",
     "text": [
      "Num is not divisible by 5\n"
     ]
    }
   ],
   "source": [
    "num =int(input(\"enter a number to check:\"))\n",
    "\n",
    "if (num%5 == 0):\n",
    "         print(\"Num is divisible by 5\")\n",
    "else:\n",
    "         print(\"Num is not divisible by 5\")\n",
    "         \n"
   ]
  }
 ],
 "metadata": {
  "kernelspec": {
   "display_name": "Python 3 (ipykernel)",
   "language": "python",
   "name": "python3"
  },
  "language_info": {
   "codemirror_mode": {
    "name": "ipython",
    "version": 3
   },
   "file_extension": ".py",
   "mimetype": "text/x-python",
   "name": "python",
   "nbconvert_exporter": "python",
   "pygments_lexer": "ipython3",
   "version": "3.13.5"
  }
 },
 "nbformat": 4,
 "nbformat_minor": 5
}
